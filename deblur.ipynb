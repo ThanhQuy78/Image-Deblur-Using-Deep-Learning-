{
 "cells": [
  {
   "cell_type": "code",
   "execution_count": 4,
   "id": "c29c740a",
   "metadata": {},
   "outputs": [],
   "source": [
    "import torch \n",
    "import torch.nn as nn\n",
    "from models import get_net\n",
    "from utils.image_io import *\n",
    "from utils.metrics import *\n",
    "from utils.torch_utils import *\n",
    "from utils.visualization import *\n",
    "import os "
   ]
  },
  {
   "cell_type": "code",
   "execution_count": 5,
   "id": "0d450053",
   "metadata": {},
   "outputs": [],
   "source": [
    "device = \"cuda\" if  torch.cuda.is_available() else \"cpu\"\n",
    "\n",
    "img_pil=load_img(\"blurred.png\")\n",
    "img_crop= crop_image(img_pil)\n",
    "img_np=pil_to_np(img_crop)\n",
    "img_torch = np_to_torch(img_np).to(device)\n",
    "\n",
    "# Noise input\n",
    "net_input = get_noise(32, \"noise\", img_np.shape[1:], \"uniform\").to(device)\n",
    "net_input_saved = net_input.detach().clone()\n",
    "noise = net_input.detach().clone()\n",
    "\n",
    "# Network\n",
    "net = get_net(NET_TYPE = \"skip\", input_depth=32, n_channels=img_np.shape[0]).to(device)\n",
    "\n",
    "mse = nn.MSELoss().to(device)"
   ]
  },
  {
   "cell_type": "code",
   "execution_count": null,
   "id": "90821623",
   "metadata": {},
   "outputs": [],
   "source": [
    "percep_loss = PerceptualLoss(\n",
    "    backbone_type = \"vgg19_modified\",\n",
    "    match_mode = \"features\",\n",
    "    feature_dist = \"l1\",\n",
    "    tv_weight= 1e-5,\n",
    "    cache_target = True\n",
    ").to(device)"
   ]
  },
  {
   "cell_type": "code",
   "execution_count": null,
   "id": "39fb87cc",
   "metadata": {},
   "outputs": [],
   "source": [
    "out_avg = None\n",
    "last_net = None\n",
    "psnr_last = 0\n",
    "i = 0\n",
    "\n",
    "reg_noise_std = 1./30\n",
    "exp_weight = 0.99\n",
    "show_every=100\n",
    "\n",
    "sharp_path =\"sharp.png\"\n",
    "sharp_pil = crop_image(load_img(sharp_path))\n",
    "sharp_np = pil_to_np(sharp_pil)\n",
    "\n",
    "def closure():\n",
    "    global i, out_avg, psnr_last, last_net, net_input\n",
    "\n",
    "    # Inject noise\n",
    "    if reg_noise_std > 0:\n",
    "        net_input = net_input_saved + (noise.normal_() * reg_noise_std)\n",
    "\n",
    "    out = net(net_input)\n",
    "\n",
    "    # Exponential moving average\n",
    "    if out_avg is None:\n",
    "        out_avg = out.detach()\n",
    "    else:\n",
    "        out_avg = out_avg * exp_weight + out.detach() * (1 - exp_weight)\n",
    "\n",
    "    loss_mse = mse(out, img_torch)\n",
    "    loss_percep = percep_loss(out,img_torch)\n",
    "\n",
    "    total_loss = loss_mse + 0.1*loss_percep\n",
    "    total_loss.backward()\n",
    "\n",
    "    # PSNR\n",
    "    out_np = torch_to_np(out.detach())\n",
    "    psnr_val = compute_psnr(out_np, img_np)\n",
    "\n",
    "    if sharp_path is not None:\n",
    "        psnr_gt = compute_psnr(out_np, sharp_np)\n",
    "        psnr_gt_sm = compute_psnr(torch_to_np(out_avg), sharp_np)\n",
    "    else:\n",
    "        psnr_gt = psnr_gt_sm = None\n",
    "\n",
    "    if i % show_every == 0:\n",
    "        log_msg = f\"Iter {i:05d} | Loss {total_loss.item():.6f} | PSNR {psnr_val:.2f}\"\n",
    "        if psnr_gt is not None:\n",
    "            log_msg += f\" | PSNR_gt {psnr_gt:.2f} | PSNR_gt_sm {psnr_gt_sm:.2f}\"\n",
    "        print(log_msg)\n",
    "\n",
    "\n",
    "    # Backtracking\n",
    "    if i % show_every == 0:\n",
    "        if psnr_val - psnr_last < -5:  # PSNR drop quá nhiều\n",
    "            print(\"Falling back to previous checkpoint...\")\n",
    "            for new_param, net_param in zip(last_net, net.parameters()):\n",
    "                net_param.data.copy_(new_param.to(device))\n",
    "            return total_loss * 0\n",
    "        else:\n",
    "            last_net = [x.detach().cpu() for x in net.parameters()]\n",
    "            psnr_last = psnr_val\n",
    "\n",
    "    i += 1\n",
    "    return total_loss"
   ]
  },
  {
   "cell_type": "code",
   "execution_count": null,
   "id": "1a2bc21b",
   "metadata": {},
   "outputs": [
    {
     "name": "stdout",
     "output_type": "stream",
     "text": [
      "Starting optimization with Adam\n"
     ]
    }
   ],
   "source": [
    "p = get_params(\"net\", net, net_input)\n",
    "optimize(\"adam\", p, closure, lr=0.01, num_iter=2)\n",
    "\n",
    "# Kết quả\n",
    "out_img = net(net_input).detach()\n",
    "save_torch_img(out_img, \"deblurred.png\")\n",
    "print(\"Saved result\")"
   ]
  },
  {
   "cell_type": "code",
   "execution_count": null,
   "id": "1e5fbe94",
   "metadata": {},
   "outputs": [],
   "source": [
    "visualize_comparison(torch.from_numpy(img_np), out_img, torch.from_numpy(sharp_np))"
   ]
  }
 ],
 "metadata": {
  "kernelspec": {
   "display_name": "thanh",
   "language": "python",
   "name": "python3"
  },
  "language_info": {
   "codemirror_mode": {
    "name": "ipython",
    "version": 3
   },
   "file_extension": ".py",
   "mimetype": "text/x-python",
   "name": "python",
   "nbconvert_exporter": "python",
   "pygments_lexer": "ipython3",
   "version": "3.10.18"
  }
 },
 "nbformat": 4,
 "nbformat_minor": 5
}
